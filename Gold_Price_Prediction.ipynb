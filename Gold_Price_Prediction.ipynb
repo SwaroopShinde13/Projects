{
  "cells": [
    {
      "cell_type": "markdown",
      "metadata": {
        "id": "view-in-github",
        "colab_type": "text"
      },
      "source": [
        "<a href=\"https://colab.research.google.com/github/SwaroopShinde13/Projects/blob/main/Gold_Price_Prediction.ipynb\" target=\"_parent\"><img src=\"https://colab.research.google.com/assets/colab-badge.svg\" alt=\"Open In Colab\"/></a>"
      ]
    },
    {
      "cell_type": "markdown",
      "id": "0ca4f502",
      "metadata": {
        "id": "0ca4f502"
      },
      "source": [
        "# Gold Price Prediction "
      ]
    },
    {
      "cell_type": "code",
      "execution_count": null,
      "id": "cbae84ae",
      "metadata": {
        "id": "cbae84ae"
      },
      "outputs": [],
      "source": [
        "import pandas as pd"
      ]
    },
    {
      "cell_type": "code",
      "execution_count": null,
      "id": "45d83333",
      "metadata": {
        "id": "45d83333"
      },
      "outputs": [],
      "source": [
        "# loading the csv data to a Pandas DataFrame\n",
        "gold_data = pd.read_csv(r'C:\\Users\\Swaroop\\Downloads\\gld_price_data.csv')"
      ]
    },
    {
      "cell_type": "code",
      "execution_count": null,
      "id": "076928e7",
      "metadata": {
        "id": "076928e7",
        "outputId": "3fe0af32-9873-4362-afa8-6ffe6af9c1bf"
      },
      "outputs": [
        {
          "data": {
            "text/html": [
              "<div>\n",
              "<style scoped>\n",
              "    .dataframe tbody tr th:only-of-type {\n",
              "        vertical-align: middle;\n",
              "    }\n",
              "\n",
              "    .dataframe tbody tr th {\n",
              "        vertical-align: top;\n",
              "    }\n",
              "\n",
              "    .dataframe thead th {\n",
              "        text-align: right;\n",
              "    }\n",
              "</style>\n",
              "<table border=\"1\" class=\"dataframe\">\n",
              "  <thead>\n",
              "    <tr style=\"text-align: right;\">\n",
              "      <th></th>\n",
              "      <th>Date</th>\n",
              "      <th>SPX</th>\n",
              "      <th>GLD</th>\n",
              "      <th>USO</th>\n",
              "      <th>SLV</th>\n",
              "      <th>EUR/USD</th>\n",
              "    </tr>\n",
              "  </thead>\n",
              "  <tbody>\n",
              "    <tr>\n",
              "      <th>0</th>\n",
              "      <td>1/2/2008</td>\n",
              "      <td>1447.160034</td>\n",
              "      <td>84.860001</td>\n",
              "      <td>78.470001</td>\n",
              "      <td>15.180</td>\n",
              "      <td>1.471692</td>\n",
              "    </tr>\n",
              "    <tr>\n",
              "      <th>1</th>\n",
              "      <td>1/3/2008</td>\n",
              "      <td>1447.160034</td>\n",
              "      <td>85.570000</td>\n",
              "      <td>78.370003</td>\n",
              "      <td>15.285</td>\n",
              "      <td>1.474491</td>\n",
              "    </tr>\n",
              "    <tr>\n",
              "      <th>2</th>\n",
              "      <td>1/4/2008</td>\n",
              "      <td>1411.630005</td>\n",
              "      <td>85.129997</td>\n",
              "      <td>77.309998</td>\n",
              "      <td>15.167</td>\n",
              "      <td>1.475492</td>\n",
              "    </tr>\n",
              "    <tr>\n",
              "      <th>3</th>\n",
              "      <td>1/7/2008</td>\n",
              "      <td>1416.180054</td>\n",
              "      <td>84.769997</td>\n",
              "      <td>75.500000</td>\n",
              "      <td>15.053</td>\n",
              "      <td>1.468299</td>\n",
              "    </tr>\n",
              "    <tr>\n",
              "      <th>4</th>\n",
              "      <td>1/8/2008</td>\n",
              "      <td>1390.189941</td>\n",
              "      <td>86.779999</td>\n",
              "      <td>76.059998</td>\n",
              "      <td>15.590</td>\n",
              "      <td>1.557099</td>\n",
              "    </tr>\n",
              "  </tbody>\n",
              "</table>\n",
              "</div>"
            ],
            "text/plain": [
              "       Date          SPX        GLD        USO     SLV   EUR/USD\n",
              "0  1/2/2008  1447.160034  84.860001  78.470001  15.180  1.471692\n",
              "1  1/3/2008  1447.160034  85.570000  78.370003  15.285  1.474491\n",
              "2  1/4/2008  1411.630005  85.129997  77.309998  15.167  1.475492\n",
              "3  1/7/2008  1416.180054  84.769997  75.500000  15.053  1.468299\n",
              "4  1/8/2008  1390.189941  86.779999  76.059998  15.590  1.557099"
            ]
          },
          "execution_count": 3,
          "metadata": {},
          "output_type": "execute_result"
        }
      ],
      "source": [
        "# print first 5 rows in the dataframe\n",
        "gold_data.head()"
      ]
    },
    {
      "cell_type": "code",
      "execution_count": null,
      "id": "2186c35f",
      "metadata": {
        "id": "2186c35f",
        "outputId": "81e815e2-ace5-44a2-e1b4-3b3e40d30ce2"
      },
      "outputs": [
        {
          "data": {
            "text/html": [
              "<div>\n",
              "<style scoped>\n",
              "    .dataframe tbody tr th:only-of-type {\n",
              "        vertical-align: middle;\n",
              "    }\n",
              "\n",
              "    .dataframe tbody tr th {\n",
              "        vertical-align: top;\n",
              "    }\n",
              "\n",
              "    .dataframe thead th {\n",
              "        text-align: right;\n",
              "    }\n",
              "</style>\n",
              "<table border=\"1\" class=\"dataframe\">\n",
              "  <thead>\n",
              "    <tr style=\"text-align: right;\">\n",
              "      <th></th>\n",
              "      <th>Date</th>\n",
              "      <th>SPX</th>\n",
              "      <th>GLD</th>\n",
              "      <th>USO</th>\n",
              "      <th>SLV</th>\n",
              "      <th>EUR/USD</th>\n",
              "    </tr>\n",
              "  </thead>\n",
              "  <tbody>\n",
              "    <tr>\n",
              "      <th>2285</th>\n",
              "      <td>5/8/2018</td>\n",
              "      <td>2671.919922</td>\n",
              "      <td>124.589996</td>\n",
              "      <td>14.0600</td>\n",
              "      <td>15.5100</td>\n",
              "      <td>1.186789</td>\n",
              "    </tr>\n",
              "    <tr>\n",
              "      <th>2286</th>\n",
              "      <td>5/9/2018</td>\n",
              "      <td>2697.790039</td>\n",
              "      <td>124.330002</td>\n",
              "      <td>14.3700</td>\n",
              "      <td>15.5300</td>\n",
              "      <td>1.184722</td>\n",
              "    </tr>\n",
              "    <tr>\n",
              "      <th>2287</th>\n",
              "      <td>5/10/2018</td>\n",
              "      <td>2723.070068</td>\n",
              "      <td>125.180000</td>\n",
              "      <td>14.4100</td>\n",
              "      <td>15.7400</td>\n",
              "      <td>1.191753</td>\n",
              "    </tr>\n",
              "    <tr>\n",
              "      <th>2288</th>\n",
              "      <td>5/14/2018</td>\n",
              "      <td>2730.129883</td>\n",
              "      <td>124.489998</td>\n",
              "      <td>14.3800</td>\n",
              "      <td>15.5600</td>\n",
              "      <td>1.193118</td>\n",
              "    </tr>\n",
              "    <tr>\n",
              "      <th>2289</th>\n",
              "      <td>5/16/2018</td>\n",
              "      <td>2725.780029</td>\n",
              "      <td>122.543800</td>\n",
              "      <td>14.4058</td>\n",
              "      <td>15.4542</td>\n",
              "      <td>1.182033</td>\n",
              "    </tr>\n",
              "  </tbody>\n",
              "</table>\n",
              "</div>"
            ],
            "text/plain": [
              "           Date          SPX         GLD      USO      SLV   EUR/USD\n",
              "2285   5/8/2018  2671.919922  124.589996  14.0600  15.5100  1.186789\n",
              "2286   5/9/2018  2697.790039  124.330002  14.3700  15.5300  1.184722\n",
              "2287  5/10/2018  2723.070068  125.180000  14.4100  15.7400  1.191753\n",
              "2288  5/14/2018  2730.129883  124.489998  14.3800  15.5600  1.193118\n",
              "2289  5/16/2018  2725.780029  122.543800  14.4058  15.4542  1.182033"
            ]
          },
          "execution_count": 4,
          "metadata": {},
          "output_type": "execute_result"
        }
      ],
      "source": [
        "# print last 5 rows of the dataframe\n",
        "gold_data.tail()"
      ]
    },
    {
      "cell_type": "code",
      "execution_count": null,
      "id": "4d6397c6",
      "metadata": {
        "id": "4d6397c6",
        "outputId": "ac74dea5-bc1c-4c78-9a3b-4369fa764c1c"
      },
      "outputs": [
        {
          "data": {
            "text/plain": [
              "(2290, 6)"
            ]
          },
          "execution_count": 5,
          "metadata": {},
          "output_type": "execute_result"
        }
      ],
      "source": [
        "# number of rows and columns\n",
        "gold_data.shape"
      ]
    },
    {
      "cell_type": "code",
      "execution_count": null,
      "id": "f59f77ea",
      "metadata": {
        "id": "f59f77ea",
        "outputId": "e0f39e8b-5d9b-45ee-c525-b0d23fdb7b05"
      },
      "outputs": [
        {
          "data": {
            "text/plain": [
              "Date       0\n",
              "SPX        0\n",
              "GLD        0\n",
              "USO        0\n",
              "SLV        0\n",
              "EUR/USD    0\n",
              "dtype: int64"
            ]
          },
          "execution_count": 7,
          "metadata": {},
          "output_type": "execute_result"
        }
      ],
      "source": [
        "# checking the number of missing values\n",
        "gold_data.isnull().sum()"
      ]
    },
    {
      "cell_type": "code",
      "execution_count": null,
      "id": "700233d0",
      "metadata": {
        "id": "700233d0",
        "outputId": "5ab71ca7-5b2b-4521-ad61-c72f6636059a"
      },
      "outputs": [
        {
          "data": {
            "text/html": [
              "<div>\n",
              "<style scoped>\n",
              "    .dataframe tbody tr th:only-of-type {\n",
              "        vertical-align: middle;\n",
              "    }\n",
              "\n",
              "    .dataframe tbody tr th {\n",
              "        vertical-align: top;\n",
              "    }\n",
              "\n",
              "    .dataframe thead th {\n",
              "        text-align: right;\n",
              "    }\n",
              "</style>\n",
              "<table border=\"1\" class=\"dataframe\">\n",
              "  <thead>\n",
              "    <tr style=\"text-align: right;\">\n",
              "      <th></th>\n",
              "      <th>SPX</th>\n",
              "      <th>GLD</th>\n",
              "      <th>USO</th>\n",
              "      <th>SLV</th>\n",
              "      <th>EUR/USD</th>\n",
              "    </tr>\n",
              "  </thead>\n",
              "  <tbody>\n",
              "    <tr>\n",
              "      <th>count</th>\n",
              "      <td>2290.000000</td>\n",
              "      <td>2290.000000</td>\n",
              "      <td>2290.000000</td>\n",
              "      <td>2290.000000</td>\n",
              "      <td>2290.000000</td>\n",
              "    </tr>\n",
              "    <tr>\n",
              "      <th>mean</th>\n",
              "      <td>1654.315776</td>\n",
              "      <td>122.732875</td>\n",
              "      <td>31.842221</td>\n",
              "      <td>20.084997</td>\n",
              "      <td>1.283653</td>\n",
              "    </tr>\n",
              "    <tr>\n",
              "      <th>std</th>\n",
              "      <td>519.111540</td>\n",
              "      <td>23.283346</td>\n",
              "      <td>19.523517</td>\n",
              "      <td>7.092566</td>\n",
              "      <td>0.131547</td>\n",
              "    </tr>\n",
              "    <tr>\n",
              "      <th>min</th>\n",
              "      <td>676.530029</td>\n",
              "      <td>70.000000</td>\n",
              "      <td>7.960000</td>\n",
              "      <td>8.850000</td>\n",
              "      <td>1.039047</td>\n",
              "    </tr>\n",
              "    <tr>\n",
              "      <th>25%</th>\n",
              "      <td>1239.874969</td>\n",
              "      <td>109.725000</td>\n",
              "      <td>14.380000</td>\n",
              "      <td>15.570000</td>\n",
              "      <td>1.171313</td>\n",
              "    </tr>\n",
              "    <tr>\n",
              "      <th>50%</th>\n",
              "      <td>1551.434998</td>\n",
              "      <td>120.580002</td>\n",
              "      <td>33.869999</td>\n",
              "      <td>17.268500</td>\n",
              "      <td>1.303297</td>\n",
              "    </tr>\n",
              "    <tr>\n",
              "      <th>75%</th>\n",
              "      <td>2073.010070</td>\n",
              "      <td>132.840004</td>\n",
              "      <td>37.827501</td>\n",
              "      <td>22.882500</td>\n",
              "      <td>1.369971</td>\n",
              "    </tr>\n",
              "    <tr>\n",
              "      <th>max</th>\n",
              "      <td>2872.870117</td>\n",
              "      <td>184.589996</td>\n",
              "      <td>117.480003</td>\n",
              "      <td>47.259998</td>\n",
              "      <td>1.598798</td>\n",
              "    </tr>\n",
              "  </tbody>\n",
              "</table>\n",
              "</div>"
            ],
            "text/plain": [
              "               SPX          GLD          USO          SLV      EUR/USD\n",
              "count  2290.000000  2290.000000  2290.000000  2290.000000  2290.000000\n",
              "mean   1654.315776   122.732875    31.842221    20.084997     1.283653\n",
              "std     519.111540    23.283346    19.523517     7.092566     0.131547\n",
              "min     676.530029    70.000000     7.960000     8.850000     1.039047\n",
              "25%    1239.874969   109.725000    14.380000    15.570000     1.171313\n",
              "50%    1551.434998   120.580002    33.869999    17.268500     1.303297\n",
              "75%    2073.010070   132.840004    37.827501    22.882500     1.369971\n",
              "max    2872.870117   184.589996   117.480003    47.259998     1.598798"
            ]
          },
          "execution_count": 8,
          "metadata": {},
          "output_type": "execute_result"
        }
      ],
      "source": [
        "# getting the statistical measures of the data\n",
        "gold_data.describe()"
      ]
    },
    {
      "cell_type": "code",
      "execution_count": null,
      "id": "d1e94de5",
      "metadata": {
        "id": "d1e94de5"
      },
      "outputs": [],
      "source": [
        "correlation = gold_data.corr()"
      ]
    },
    {
      "cell_type": "code",
      "execution_count": null,
      "id": "d3ea3f0a",
      "metadata": {
        "id": "d3ea3f0a",
        "outputId": "ebb24d44-044a-4408-8d9c-f89690d315eb"
      },
      "outputs": [
        {
          "name": "stdout",
          "output_type": "stream",
          "text": [
            "SPX        0.049345\n",
            "GLD        1.000000\n",
            "USO       -0.186360\n",
            "SLV        0.866632\n",
            "EUR/USD   -0.024375\n",
            "Name: GLD, dtype: float64\n"
          ]
        }
      ],
      "source": [
        "# correlation values of GLD\n",
        "print(correlation['GLD'])"
      ]
    },
    {
      "cell_type": "code",
      "execution_count": null,
      "id": "0e043087",
      "metadata": {
        "id": "0e043087"
      },
      "outputs": [],
      "source": [
        "import seaborn as sns"
      ]
    },
    {
      "cell_type": "code",
      "execution_count": null,
      "id": "327694b0",
      "metadata": {
        "id": "327694b0",
        "outputId": "2b42c1f2-8f25-440c-cd37-93d9dfb5b8fd"
      },
      "outputs": [
        {
          "name": "stderr",
          "output_type": "stream",
          "text": [
            "C:\\Users\\Swaroop\\anaconda3\\lib\\site-packages\\seaborn\\distributions.py:2557: FutureWarning: `distplot` is a deprecated function and will be removed in a future version. Please adapt your code to use either `displot` (a figure-level function with similar flexibility) or `histplot` (an axes-level function for histograms).\n",
            "  warnings.warn(msg, FutureWarning)\n"
          ]
        },
        {
          "data": {
            "text/plain": [
              "<AxesSubplot:xlabel='GLD', ylabel='Density'>"
            ]
          },
          "execution_count": 13,
          "metadata": {},
          "output_type": "execute_result"
        },
        {
          "data": {
            "image/png": "[encoded data removed]",
            "text/plain": [
              "<Figure size 432x288 with 1 Axes>"
            ]
          },
          "metadata": {
            "needs_background": "light"
          },
          "output_type": "display_data"
        }
      ],
      "source": [
        "# checking the distribution of the GLD Price\n",
        "sns.distplot(gold_data['GLD'],color='green')\n"
      ]
    },
    {
      "cell_type": "code",
      "execution_count": null,
      "id": "2f0c55c9",
      "metadata": {
        "id": "2f0c55c9"
      },
      "outputs": [],
      "source": [
        "X = gold_data.drop(['Date','GLD'],axis=1)\n",
        "Y = gold_data['GLD']"
      ]
    },
    {
      "cell_type": "code",
      "execution_count": null,
      "id": "ac9eb806",
      "metadata": {
        "id": "ac9eb806",
        "outputId": "6142920a-ae66-4583-f2b8-4294bb0b5501"
      },
      "outputs": [
        {
          "name": "stdout",
          "output_type": "stream",
          "text": [
            "0        84.860001\n",
            "1        85.570000\n",
            "2        85.129997\n",
            "3        84.769997\n",
            "4        86.779999\n",
            "           ...    \n",
            "2285    124.589996\n",
            "2286    124.330002\n",
            "2287    125.180000\n",
            "2288    124.489998\n",
            "2289    122.543800\n",
            "Name: GLD, Length: 2290, dtype: float64\n"
          ]
        }
      ],
      "source": [
        "print(Y)"
      ]
    },
    {
      "cell_type": "code",
      "execution_count": null,
      "id": "c619a244",
      "metadata": {
        "id": "c619a244"
      },
      "outputs": [],
      "source": [
        "from sklearn.model_selection import train_test_split"
      ]
    },
    {
      "cell_type": "code",
      "execution_count": null,
      "id": "172ee76f",
      "metadata": {
        "id": "172ee76f"
      },
      "outputs": [],
      "source": [
        "X_train, X_test, Y_train, Y_test = train_test_split(X, Y, test_size = 0.2, random_state=2)"
      ]
    },
    {
      "cell_type": "code",
      "execution_count": null,
      "id": "0d3d0157",
      "metadata": {
        "id": "0d3d0157"
      },
      "outputs": [],
      "source": [
        "from sklearn.ensemble import RandomForestRegressor"
      ]
    },
    {
      "cell_type": "code",
      "execution_count": null,
      "id": "b76b7af4",
      "metadata": {
        "id": "b76b7af4"
      },
      "outputs": [],
      "source": [
        "regressor = RandomForestRegressor(n_estimators=100)\n"
      ]
    },
    {
      "cell_type": "code",
      "execution_count": null,
      "id": "d4396296",
      "metadata": {
        "id": "d4396296",
        "outputId": "e24bde44-fd8c-4c0e-a443-ed40a41bbd83"
      },
      "outputs": [
        {
          "data": {
            "text/plain": [
              "RandomForestRegressor()"
            ]
          },
          "execution_count": 23,
          "metadata": {},
          "output_type": "execute_result"
        }
      ],
      "source": [
        "\n",
        "# training the model\n",
        "regressor.fit(X_train,Y_train)"
      ]
    },
    {
      "cell_type": "code",
      "execution_count": null,
      "id": "68e3452b",
      "metadata": {
        "id": "68e3452b"
      },
      "outputs": [],
      "source": [
        "# prediction on Test Data\n",
        "test_data_prediction = regressor.predict(X_test)"
      ]
    },
    {
      "cell_type": "code",
      "execution_count": null,
      "id": "9f956f60",
      "metadata": {
        "id": "9f956f60",
        "outputId": "2432b028-0fee-456f-ac02-cc1be31bd967"
      },
      "outputs": [
        {
          "name": "stdout",
          "output_type": "stream",
          "text": [
            "[168.5644994   81.88659991 116.1820998  127.48390108 120.54000144\n",
            " 154.5950973  149.97429807 126.11150036 117.60999899 126.00670081\n",
            " 116.90740096 171.14040128 141.4210978  168.21189894 115.12099998\n",
            " 117.5198006  138.06570344 170.02950108 158.94300288 160.65419914\n",
            " 155.07850044 125.14170004 175.95599971 157.2808034  125.11680046\n",
            "  93.74589996  77.38670018 120.38200034 119.06089901 167.55399977\n",
            "  88.11330103 124.96099991  91.22650085 117.55840034 121.14739906\n",
            " 136.26050085 115.47210111 115.09630097 148.53699932 106.8467009\n",
            " 104.4159023   87.1205979  126.48730062 118.17880008 152.24559927\n",
            " 119.69549998 108.30289984 107.94289839  93.11860004 126.95179819\n",
            "  75.42980023 113.78229918 121.20569994 111.36689897 118.8440989\n",
            " 120.78449944 158.85979914 167.97660139 146.89039654  85.88789872\n",
            "  94.10240072  86.76169868  90.8230002  119.15550047 126.57330064\n",
            " 127.44030016 169.74789976 122.35469972 117.44979861  98.59110053\n",
            " 168.57860141 142.829898   131.93900244 121.09290207 121.16639915\n",
            " 119.78480037 114.32780195 118.06900039 106.93460093 127.942701\n",
            " 113.95169962 106.7583002  116.77580051 119.52809906  89.28530043\n",
            "  88.20659866 146.96770249 127.35880029 113.22720028 109.9957983\n",
            " 108.20419899  77.42329893 169.76090208 114.12589914 121.61679899\n",
            " 128.2106025  154.96859846  91.7689995  136.41980116 159.03420325\n",
            " 125.34520059 125.53830086 130.57290149 114.76640116 119.70499996\n",
            "  92.20339991 110.44029914 168.46499875 157.21569933 114.25719961\n",
            " 106.66590128  79.28929991 113.37800039 125.79340073 107.12639885\n",
            " 119.58560093 155.7211032  160.20989939 120.31919993 134.43170375\n",
            " 101.5648999  117.31569811 119.20380009 112.98590076 102.75899913\n",
            " 160.47379822  98.92620044 148.84329819 125.60730143 169.29359927\n",
            " 125.60059882 127.33469754 127.2857017  113.82359919 112.87210075\n",
            " 123.59549905 102.12529887  89.31859985 124.6022994  101.65529919\n",
            " 107.06759916 113.34460075 117.33560079  99.08249965 121.57180059\n",
            " 163.67659872  87.24589828 106.87959986 117.37890098 127.76800135\n",
            " 124.12490046  80.84449931 120.32670062 157.74239806  88.04449989\n",
            " 110.27109956 118.83309928 171.49609921 103.0255988  105.88730036\n",
            " 122.69970039 158.20389751  87.67629817  93.43420052 112.62750029\n",
            " 177.35319935 114.45539964 119.2477001   94.57780095 125.78320029\n",
            " 166.16920062 114.69000085 117.06570145  88.21259862 148.97750071\n",
            " 120.33929963  89.5973997  112.37849997 117.12300074 118.82370127\n",
            "  88.22969948  94.34110029 117.25770002 118.47010199 120.36220048\n",
            " 126.73199847 121.95839996 152.08050063 165.60430037 118.58149959\n",
            " 120.44390149 151.22800046 118.59339901 171.87279897 105.4063993\n",
            " 105.17490071 149.22290067 113.64180093 124.81500122 147.55110036\n",
            " 119.65860124 115.44680034 112.7101001  113.55340202 140.50250128\n",
            " 117.91959759 102.9672005  115.93740147 103.30010135  98.73480057\n",
            " 117.23250063  90.65140021  91.53620063 153.37159852 102.72499972\n",
            " 154.69380137 114.33310148 138.83810135  90.17089819 115.46589941\n",
            " 114.80759976 122.53860048 121.84080026 165.40650141  92.90889934\n",
            " 135.64260166 121.39719943 120.63300094 104.55970021 141.59720281\n",
            " 121.39799939 116.53600018 113.34740116 127.15229735 122.72579938\n",
            " 125.75699968 121.24710035  86.8821991  132.23410146 144.83090254\n",
            "  92.71449967 157.77509924 159.09100178 126.28409921 164.82089935\n",
            " 108.70269957 109.71390091 103.71129847  94.46360029 128.08460314\n",
            " 107.13630024 160.87790041 121.45210059 132.13850005 130.61850145\n",
            " 160.37539945  90.22639805 175.51580194 126.43040002 126.75869914\n",
            "  86.44559911 124.3985989  150.57159829  89.76379993 106.98979974\n",
            " 109.00349997  84.72449873 136.05750038 154.87460173 139.72190329\n",
            "  73.94480025 152.20380083 125.98879985 126.81200007 127.55439926\n",
            " 108.40999933 156.24399941 114.41620118 116.91450146 124.81959936\n",
            " 154.08330151 121.35729994 156.33759962  93.03420054 125.53370118\n",
            " 125.83300015  87.87010035  92.14619937 126.3292988  128.11490353\n",
            " 113.0917999  117.87069751 120.74070035 127.15729762 119.88870087\n",
            " 135.97330032  93.99199959 119.91080037 113.3686009   94.35239943\n",
            " 108.82240006  87.399799   108.92289956  89.56749973  92.33780011\n",
            " 131.59160326 162.51690088  89.25789997 119.79610075 133.35000159\n",
            " 123.8190001  128.47850203 102.00629865  88.98209869 131.61050055\n",
            " 120.15599997 108.44200024 167.25050085 115.18390049  86.60139911\n",
            " 118.81510085  91.12109965 162.01320026 116.40400064 121.6377\n",
            " 160.16299757 120.11289929 112.62149958 108.36759876 126.70540006\n",
            "  76.0772005  103.01559982 127.91280303 121.87899926  92.63980005\n",
            " 132.77390056 118.41300123 115.8091998  154.46290248 159.89240101\n",
            " 110.03869976 154.77609768 119.25500077 160.74489976 118.60110069\n",
            " 157.86999914 115.08499952 116.51800028 148.07369906 114.64150109\n",
            " 125.50469869 166.05849932 117.59609978 125.13239963 153.33960357\n",
            " 153.39200252 132.00980024 114.78790027 121.01530192 125.53140102\n",
            "  89.87000039 123.18419989 155.33440275 111.83350036 106.70959998\n",
            " 161.63310184 118.48840001 165.62550029 134.04450179 114.88049984\n",
            " 152.97599937 168.71120009 115.40359972 114.17170104 158.68819904\n",
            "  85.35779888 127.10140051 127.80880038 128.69750023 124.44450074\n",
            " 123.95080052  90.62410074 153.40330044  97.09619976 136.57789934\n",
            "  89.06709905 106.77130014 115.02410048 112.45490112 124.22709923\n",
            "  91.39279892 125.45340153 162.22929852 119.92699853 165.13040096\n",
            " 126.76889816 112.31839986 127.54619943  95.17349875  91.26959978\n",
            " 103.09539893 120.74990046  83.03229948 126.31280023 159.3802046\n",
            " 117.22740077 118.33299986 119.95240012 122.84629955 120.27670134\n",
            " 121.33349999 118.08490023 106.97109964 148.37660059 126.02169854\n",
            " 115.72770108  74.00280014 127.77530061 154.39460076 122.41679991\n",
            " 125.62920085  88.92959993 103.82309896 124.49820037 120.22690014\n",
            "  73.3221012  151.76780043 121.11930048 104.93939976  86.28049768\n",
            " 115.17169914 172.3188985  119.84410017 160.24609772 113.24579955\n",
            " 121.08030051 118.49340121  95.91519982 118.92510012 126.02950058\n",
            " 118.40689962  95.95860045 153.92570198 122.13730009 147.4484004\n",
            " 158.99550279 113.79650014 122.54609943 149.126598   127.09140021\n",
            " 165.88380098 136.14730029 119.99230001 167.2684986  108.35959962\n",
            " 121.39939887 138.57330128 106.27919914]\n"
          ]
        }
      ],
      "source": [
        "print(test_data_prediction)"
      ]
    },
    {
      "cell_type": "code",
      "execution_count": null,
      "id": "472910f5",
      "metadata": {
        "id": "472910f5"
      },
      "outputs": [],
      "source": [
        "from sklearn import metrics"
      ]
    },
    {
      "cell_type": "code",
      "execution_count": null,
      "id": "52b10e4d",
      "metadata": {
        "id": "52b10e4d",
        "outputId": "0c5d3c66-7f57-4349-b433-dab3ed802036"
      },
      "outputs": [
        {
          "name": "stdout",
          "output_type": "stream",
          "text": [
            "R squared error :  0.989482575416047\n"
          ]
        }
      ],
      "source": [
        "# R squared error\n",
        "error_score = metrics.r2_score(Y_test, test_data_prediction)\n",
        "print(\"R squared error : \", error_score)"
      ]
    },
    {
      "cell_type": "code",
      "execution_count": null,
      "id": "99160107",
      "metadata": {
        "id": "99160107"
      },
      "outputs": [],
      "source": [
        "Y_test = list(Y_test)"
      ]
    },
    {
      "cell_type": "code",
      "execution_count": null,
      "id": "8843208d",
      "metadata": {
        "id": "8843208d"
      },
      "outputs": [],
      "source": [
        "import matplotlib.pyplot as plt"
      ]
    },
    {
      "cell_type": "code",
      "execution_count": null,
      "id": "7f9ec852",
      "metadata": {
        "id": "7f9ec852",
        "outputId": "0b7e1415-f67b-4595-e248-69d46d276636"
      },
      "outputs": [
        {
          "data": {
            "image/png": "[encoded data removed]",
            "text/plain": [
              "<Figure size 432x288 with 1 Axes>"
            ]
          },
          "metadata": {
            "needs_background": "light"
          },
          "output_type": "display_data"
        }
      ],
      "source": [
        "plt.plot(Y_test, color='blue', label = 'Actual Value')\n",
        "plt.plot(test_data_prediction, color='green', label='Predicted Value')\n",
        "plt.title('Actual Price vs Predicted Price')\n",
        "plt.xlabel('Number of values')\n",
        "plt.ylabel('GLD Price')\n",
        "plt.legend()\n",
        "plt.show()"
      ]
    },
    {
      "cell_type": "code",
      "execution_count": null,
      "id": "7dfb9a5b",
      "metadata": {
        "id": "7dfb9a5b"
      },
      "outputs": [],
      "source": [
        ""
      ]
    }
  ],
  "metadata": {
    "kernelspec": {
      "display_name": "Python 3",
      "language": "python",
      "name": "python3"
    },
    "language_info": {
      "codemirror_mode": {
        "name": "ipython",
        "version": 3
      },
      "file_extension": ".py",
      "mimetype": "text/x-python",
      "name": "python",
      "nbconvert_exporter": "python",
      "pygments_lexer": "ipython3",
      "version": "3.8.8"
    },
    "colab": {
      "name": "Gold Price Prediction.ipynb",
      "provenance": [],
      "include_colab_link": true
    }
  },
  "nbformat": 4,
  "nbformat_minor": 5
}